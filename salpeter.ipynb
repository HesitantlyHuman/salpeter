{
 "cells": [
  {
   "cell_type": "code",
   "execution_count": 1,
   "metadata": {},
   "outputs": [],
   "source": [
    "import json\n",
    "import csv"
   ]
  },
  {
   "cell_type": "code",
   "execution_count": 2,
   "metadata": {},
   "outputs": [],
   "source": [
    "parts_list_path = \"scraping_results/parts_lists.jsonl\"\n",
    "weights_path = \"scraping_results/lego_weights.csv\""
   ]
  },
  {
   "cell_type": "code",
   "execution_count": 8,
   "metadata": {},
   "outputs": [],
   "source": [
    "with open(parts_list_path, \"r\") as f:\n",
    "    parts_lists = [json.loads(line) for line in f.readlines()]\n",
    "\n",
    "def convert_weight(weight_string):\n",
    "    if weight_string == \"None\":\n",
    "        return None\n",
    "    else:\n",
    "        return float(weight_string)\n",
    "\n",
    "with open(weights_path, \"r\") as f:\n",
    "    weights = {row[0]: convert_weight(row[1]) for row in csv.reader(f)}"
   ]
  },
  {
   "cell_type": "code",
   "execution_count": 20,
   "metadata": {},
   "outputs": [],
   "source": [
    "parts_lists = {parts_list[\"set_id\"]: parts_list[\"parts_list\"] for parts_list in parts_lists}"
   ]
  },
  {
   "cell_type": "code",
   "execution_count": 26,
   "metadata": {},
   "outputs": [],
   "source": [
    "def expand_parts_list(parts_list):\n",
    "    expanded = {}\n",
    "    for part_id in parts_list.keys():\n",
    "        if part_id in parts_lists:\n",
    "            expanded.update(expand_parts_list(parts_lists[part_id]))\n",
    "        else:\n",
    "            expanded[part_id] = parts_list[part_id]\n",
    "    return expanded"
   ]
  },
  {
   "cell_type": "code",
   "execution_count": 27,
   "metadata": {},
   "outputs": [],
   "source": [
    "expanded_parts_lists = {}\n",
    "for set_id, parts_list in parts_lists.items():\n",
    "    expanded_parts_lists[set_id] = expand_parts_list(parts_list)"
   ]
  },
  {
   "cell_type": "code",
   "execution_count": 30,
   "metadata": {},
   "outputs": [],
   "source": [
    "num_valid_parts_lists = 0\n",
    "for parts_list in expanded_parts_lists.values():\n",
    "    # parts_list = parts_list[\"parts_list\"]\n",
    "    parts = list(parts_list.keys())\n",
    "    all_parts_have_weights = True\n",
    "    for part in parts:\n",
    "        if part not in weights:\n",
    "            all_parts_have_weights = False\n",
    "            break\n",
    "        if weights[part] is None:\n",
    "            all_parts_have_weights = False\n",
    "            break\n",
    "    if all_parts_have_weights:\n",
    "        num_valid_parts_lists += 1"
   ]
  },
  {
   "cell_type": "code",
   "execution_count": 31,
   "metadata": {},
   "outputs": [
    {
     "data": {
      "text/plain": [
       "36672"
      ]
     },
     "execution_count": 31,
     "metadata": {},
     "output_type": "execute_result"
    }
   ],
   "source": [
    "num_valid_parts_lists"
   ]
  },
  {
   "cell_type": "code",
   "execution_count": 12,
   "metadata": {},
   "outputs": [
    {
     "data": {
      "text/plain": [
       "0.9439625215578265"
      ]
     },
     "execution_count": 12,
     "metadata": {},
     "output_type": "execute_result"
    }
   ],
   "source": [
    "num_valid_parts_lists / len(parts_lists)"
   ]
  },
  {
   "cell_type": "code",
   "execution_count": 19,
   "metadata": {},
   "outputs": [
    {
     "data": {
      "text/plain": [
       "2372"
      ]
     },
     "execution_count": 19,
     "metadata": {},
     "output_type": "execute_result"
    }
   ],
   "source": [
    "len(weights) - len([weight for weight in weights.values() if weight is not None])"
   ]
  },
  {
   "cell_type": "code",
   "execution_count": 16,
   "metadata": {},
   "outputs": [
    {
     "data": {
      "text/plain": [
       "-2177"
      ]
     },
     "execution_count": 16,
     "metadata": {},
     "output_type": "execute_result"
    }
   ],
   "source": [
    "num_valid_parts_lists - len(parts_lists)"
   ]
  },
  {
   "cell_type": "code",
   "execution_count": null,
   "metadata": {},
   "outputs": [],
   "source": [
    "valid_parts_lists = []"
   ]
  }
 ],
 "metadata": {
  "kernelspec": {
   "display_name": "hatecomp",
   "language": "python",
   "name": "python3"
  },
  "language_info": {
   "codemirror_mode": {
    "name": "ipython",
    "version": 3
   },
   "file_extension": ".py",
   "mimetype": "text/x-python",
   "name": "python",
   "nbconvert_exporter": "python",
   "pygments_lexer": "ipython3",
   "version": "3.9.7"
  },
  "orig_nbformat": 4
 },
 "nbformat": 4,
 "nbformat_minor": 2
}
